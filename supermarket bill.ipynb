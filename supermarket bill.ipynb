{
 "cells": [
  {
   "cell_type": "markdown",
   "id": "385d9e4f-2e8b-40de-bd7e-ea11ca069f15",
   "metadata": {},
   "source": [
    "# Super Market Billing System\n",
    "\n",
    "Design and implement a supermarket billing system using Python that effectively handles multiple billing functionalities. The system should allow for the input of multiple items, process their individual prices, and apply discounts where applicable. Using conditional statements and loops, the program should calculate the total bill, including any applicable discounts, and generate an itemized receipt for the customer. The system should be interactive and capable of handling real-time input, ensuring accuracy and clarity in the final output.\n",
    "\n",
    "Key Requirements:\n",
    "\n",
    "1.The system must allow for multiple items to be processed in a single transaction.\n",
    "2.Conditional statements should be used to apply discounts based on criteria (e.g., total amount, item type, or promotions).\n",
    "3.The program should calculate and display the subtotal, any discounts applied, and the final total amount due.\n",
    "4.The itemized bill should display the name, quantity, price of each item, and the final total after discounts.\n",
    "5.Loops should be utilized to handle continuous input of items until the billing process is complete.\n",
    "\n",
    "\n",
    "\n",
    "\n",
    "\n"
   ]
  },
  {
   "cell_type": "code",
   "execution_count": 2,
   "id": "f346183c-14ef-4c6b-b215-82074d4df5d0",
   "metadata": {},
   "outputs": [
    {
     "name": "stdin",
     "output_type": "stream",
     "text": [
      "Enter item name here:  Maggie\n",
      "Enter price of item:  25\n",
      "Enter quantity here :  10\n"
     ]
    },
    {
     "name": "stdout",
     "output_type": "stream",
     "text": [
      "Press 1 to add more and press 2 to generate bill\n"
     ]
    },
    {
     "name": "stdin",
     "output_type": "stream",
     "text": [
      "Enter your choices here 1\n",
      "Enter item name here:  Detergent Liquid\n",
      "Enter price of item:  180\n",
      "Enter quantity here :  2\n"
     ]
    },
    {
     "name": "stdout",
     "output_type": "stream",
     "text": [
      "Press 1 to add more and press 2 to generate bill\n"
     ]
    },
    {
     "name": "stdin",
     "output_type": "stream",
     "text": [
      "Enter your choices here 1\n",
      "Enter item name here:  Atta\n",
      "Enter price of item:  50\n",
      "Enter quantity here :  10\n"
     ]
    },
    {
     "name": "stdout",
     "output_type": "stream",
     "text": [
      "Press 1 to add more and press 2 to generate bill\n"
     ]
    },
    {
     "name": "stdin",
     "output_type": "stream",
     "text": [
      "Enter your choices here 1\n",
      "Enter item name here:  Rice\n",
      "Enter price of item:  70\n",
      "Enter quantity here :  5\n"
     ]
    },
    {
     "name": "stdout",
     "output_type": "stream",
     "text": [
      "Press 1 to add more and press 2 to generate bill\n"
     ]
    },
    {
     "name": "stdin",
     "output_type": "stream",
     "text": [
      "Enter your choices here 1\n",
      "Enter item name here:  Soap\n",
      "Enter price of item:  30\n",
      "Enter quantity here :  5\n"
     ]
    },
    {
     "name": "stdout",
     "output_type": "stream",
     "text": [
      "Press 1 to add more and press 2 to generate bill\n"
     ]
    },
    {
     "name": "stdin",
     "output_type": "stream",
     "text": [
      "Enter your choices here 2\n"
     ]
    },
    {
     "name": "stdout",
     "output_type": "stream",
     "text": [
      "--------------------------------------------------\n",
      "Your Total bill is\n",
      "Maggie              \t₹25.00   \tQty: 10   \tTotal: ₹250.00    \n",
      "Detergent Liquid    \t₹180.00  \tQty: 2    \tTotal: ₹360.00    \n",
      "Atta                \t₹50.00   \tQty: 10   \tTotal: ₹500.00    \n",
      "Rice                \t₹70.00   \tQty: 5    \tTotal: ₹350.00    \n",
      "Soap                \t₹30.00   \tQty: 5    \tTotal: ₹150.00    \n",
      "--------------------------------------------------\n",
      "Subtotal       : Rs 1610.0\n",
      "Discount       : Rs 161.0\n",
      "Amount to pay  : Rs 1449.0\n",
      "--------------------------------------------------\n"
     ]
    }
   ],
   "source": [
    "amount = 0                                                 #Stores the cost of each individual item\n",
    "Item = []                                                  #Stores the details of item purchased\n",
    "total_amount = 0                                           #Keep adding the cost of all items purchased\n",
    "while True:                                                #while loop to allow adding multiple items \n",
    "    Item_name = input(\"Enter item name here: \")            # Take inuput of item name from user\n",
    "    Price = float(input(\"Enter price of item: \"))          # Accepting price ofm item\n",
    "    Quantity = int(input(\"Enter quantity here : \"))        # Quantity of item \n",
    "    amount = Price*Quantity                                # calculating amount for particular item\n",
    "    Item.append((Item_name,Price,Quantity,amount))         # It will store the items details as a tuple\n",
    "    total_amount += amount                                 # each time when new item added its amount got added as total_amount\n",
    "    if total_amount < 1000:                                # if else for calculating discount percentage\n",
    "        Final_amount = total_amount*(1-5/100)              # condition for 5%\n",
    "    elif total_amount >1000 and total_amount <2000:        # condition for 10%\n",
    "        Final_amount = total_amount*(1-10/100)\n",
    "    elif total_amount >2000 and total_amount < 3000:       # condition for 15%\n",
    "        Final_amount = total_amount*(1-15/100)\n",
    "    else:\n",
    "        Final_amount = total_amount*(1-20/100)             # condition for flat 20% above 3000\n",
    "    Discounted_value = total_amount - Final_amount         # Calculation of discounted value\n",
    "    print(\"Press 1 to add more and press 2 to generate bill\")\n",
    "    choice = int(input(\"Enter your choices here\"))         # Asking to add more or generate bill \n",
    "    if choice == 2:\n",
    "        print(\"-\"*50)          \n",
    "        print(\"Your Total bill is\")\n",
    "        for i in Item:                                   #Display details of each item in formatted output where each column\n",
    "            print(f\"{i[0]:<20}\\t₹{i[1]:<8.2f}\\tQty: {str(i[2]):<5}\\tTotal: ₹{i[3]:<10.2f}\")\n",
    "        print(\"-\"*50)\n",
    "        print(\"Subtotal       : Rs\",total_amount)        # Print Subtotal amount\n",
    "        print(\"Discount       : Rs\",Discounted_value)    # Print Discounted amonunt\n",
    "        print(\"Amount to pay  : Rs\",Final_amount)        # Print final amount to pay\n",
    "        print(\"-\"*50)\n",
    "        break                                            #Break the loop if user choose to generate bill else continue this loop"
   ]
  }
 ],
 "metadata": {
  "kernelspec": {
   "display_name": "Python 3 (ipykernel)",
   "language": "python",
   "name": "python3"
  },
  "language_info": {
   "codemirror_mode": {
    "name": "ipython",
    "version": 3
   },
   "file_extension": ".py",
   "mimetype": "text/x-python",
   "name": "python",
   "nbconvert_exporter": "python",
   "pygments_lexer": "ipython3",
   "version": "3.13.2"
  }
 },
 "nbformat": 4,
 "nbformat_minor": 5
}
